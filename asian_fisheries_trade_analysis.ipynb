{
  "nbformat": 4,
  "nbformat_minor": 0,
  "metadata": {
    "colab": {
      "provenance": [],
      "authorship_tag": "ABX9TyPgHJpjrvmA4aSOSntQavGv",
      "include_colab_link": true
    },
    "kernelspec": {
      "name": "python3",
      "display_name": "Python 3"
    },
    "language_info": {
      "name": "python"
    }
  },
  "cells": [
    {
      "cell_type": "markdown",
      "metadata": {
        "id": "view-in-github",
        "colab_type": "text"
      },
      "source": [
        "<a href=\"https://colab.research.google.com/github/gunturrs/asian-fisheries-trade-analysis-granite/blob/main/asian_fisheries_trade_analysis.ipynb\" target=\"_parent\"><img src=\"https://colab.research.google.com/assets/colab-badge.svg\" alt=\"Open In Colab\"/></a>"
      ]
    },
    {
      "cell_type": "code",
      "source": [
        "# clone repo (pakai link repo lo sendiri)\n",
        "!git clone https://github.com/gunturrs/asian-fisheries-trade-analysis-granite.git\n",
        "\n",
        "# masuk ke folder repo\n",
        "%cd asian-fisheries-trade-analysis-granite\n",
        "\n",
        "# cek apakah folder data ada\n",
        "!ls data"
      ],
      "metadata": {
        "id": "yTc6JptJsL2S",
        "outputId": "f6acb6d5-16b4-4351-cf76-29439a5f49bf",
        "colab": {
          "base_uri": "https://localhost:8080/"
        }
      },
      "execution_count": 17,
      "outputs": [
        {
          "output_type": "stream",
          "name": "stdout",
          "text": [
            "Cloning into 'asian-fisheries-trade-analysis-granite'...\n",
            "remote: Enumerating objects: 31, done.\u001b[K\n",
            "remote: Counting objects: 100% (31/31), done.\u001b[K\n",
            "remote: Compressing objects: 100% (27/27), done.\u001b[K\n",
            "remote: Total 31 (delta 9), reused 0 (delta 0), pack-reused 0 (from 0)\u001b[K\n",
            "Receiving objects: 100% (31/31), 31.34 KiB | 15.67 MiB/s, done.\n",
            "Resolving deltas: 100% (9/9), done.\n",
            "/content/asian-fisheries-trade-analysis-granite\n",
            "Asia_Quantity.xls\n"
          ]
        }
      ]
    },
    {
      "cell_type": "code",
      "execution_count": 18,
      "metadata": {
        "id": "8PToaSCdAkNH"
      },
      "outputs": [],
      "source": [
        "import pandas as pd\n",
        "import matplotlib.pyplot as plt\n",
        "import seaborn as sns\n",
        "import numpy as np"
      ]
    },
    {
      "cell_type": "code",
      "source": [
        "df = pd.read_excel(\"data/Asia_Quantity.xls\")\n"
      ],
      "metadata": {
        "id": "v4EIQtoikOkB"
      },
      "execution_count": 20,
      "outputs": []
    },
    {
      "cell_type": "code",
      "source": [],
      "metadata": {
        "id": "F5TdW-LBj9gE"
      },
      "execution_count": null,
      "outputs": []
    }
  ]
}